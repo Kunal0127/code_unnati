{
 "cells": [
  {
   "cell_type": "code",
   "execution_count": 8,
   "metadata": {},
   "outputs": [],
   "source": [
    "import numpy as np"
   ]
  },
  {
   "cell_type": "code",
   "execution_count": 15,
   "metadata": {},
   "outputs": [],
   "source": [
    "data = np.loadtxt('data.tsv', skiprows = 1)"
   ]
  },
  {
   "cell_type": "code",
   "execution_count": 16,
   "metadata": {},
   "outputs": [
    {
     "data": {
      "text/plain": [
       "array([[  0., 100.,  78., 342.],\n",
       "       [  1.,  11.,  62., 191.],\n",
       "       [  2.,   8.,  85., 252.],\n",
       "       [  3.,  71.,  24., 307.],\n",
       "       [  4., 104.,  17., 229.],\n",
       "       [  5.,  18., 104., 246.],\n",
       "       [  6.,   8.,  76., 226.],\n",
       "       [  7.,  86.,  74., 288.],\n",
       "       [  8.,  12.,  60., 216.],\n",
       "       [  9.,  25.,  90., 304.],\n",
       "       [ 10.,  56.,   6., 272.],\n",
       "       [ 11.,  88.,  69., 302.],\n",
       "       [ 12., 147.,  65., 312.],\n",
       "       [ 13., 121., 146., 370.],\n",
       "       [ 15.,  99., 110., 362.]])"
      ]
     },
     "execution_count": 16,
     "metadata": {},
     "output_type": "execute_result"
    }
   ],
   "source": [
    "data"
   ]
  },
  {
   "cell_type": "code",
   "execution_count": 41,
   "metadata": {},
   "outputs": [
    {
     "name": "stdout",
     "output_type": "stream",
     "text": [
      "[100.  11.   8.  71. 104.  18.   8.  86.  12.  25.  56.  88. 147. 121.\n",
      "  99.]\n",
      "[ 78.  62.  85.  24.  17. 104.  76.  74.  60.  90.   6.  69.  65. 146.\n",
      " 110.]\n",
      "[342. 191. 252. 307. 229. 246. 226. 288. 216. 304. 272. 302. 312. 370.\n",
      " 362.]\n"
     ]
    }
   ],
   "source": [
    "sachin = data[:,1]\n",
    "dravid = data[:,2]\n",
    "india = data[:,3]\n",
    "\n",
    "print(sachin)\n",
    "print(dravid)\n",
    "print(india)"
   ]
  },
  {
   "cell_type": "code",
   "execution_count": 46,
   "metadata": {},
   "outputs": [],
   "source": [
    "def findMean(arr):\n",
    "    return np.mean(arr)\n",
    "\n",
    "def findMedian(arr):\n",
    "    return np.median(arr)"
   ]
  },
  {
   "cell_type": "code",
   "execution_count": null,
   "metadata": {},
   "outputs": [],
   "source": []
  },
  {
   "cell_type": "code",
   "execution_count": 52,
   "metadata": {},
   "outputs": [
    {
     "name": "stdout",
     "output_type": "stream",
     "text": [
      "Sachin: Mean = 63.6 Median = 63.6\n",
      "Dravid: Mean = 71.06666666666666 Median = 71.06666666666666\n",
      "India : Mean = 281.26666666666665 Median = 281.26666666666665\n"
     ]
    }
   ],
   "source": [
    "print(\"Sachin: Mean = \"+ str(findMean(sachin)) + \" Median = \" + str(findMean(sachin)))\n",
    "print(\"Dravid: Mean = \"+ str(findMean(dravid)) +  \" Median = \" + str(findMean(dravid)))\n",
    "print(\"India : Mean = \"+ str(findMean(india)) +  \" Median = \" + str(findMean(india)))"
   ]
  },
  {
   "cell_type": "code",
   "execution_count": null,
   "metadata": {},
   "outputs": [],
   "source": []
  }
 ],
 "metadata": {
  "kernelspec": {
   "display_name": "Python 3 (ipykernel)",
   "language": "python",
   "name": "python3"
  },
  "language_info": {
   "codemirror_mode": {
    "name": "ipython",
    "version": 3
   },
   "file_extension": ".py",
   "mimetype": "text/x-python",
   "name": "python",
   "nbconvert_exporter": "python",
   "pygments_lexer": "ipython3",
   "version": "3.9.13"
  }
 },
 "nbformat": 4,
 "nbformat_minor": 4
}
